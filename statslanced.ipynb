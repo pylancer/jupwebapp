{
 "cells": [
  {
   "cell_type": "code",
   "execution_count": 1,
   "id": "binding-glance",
   "metadata": {},
   "outputs": [],
   "source": [
    "import warnings\n",
    "warnings.filterwarnings('ignore')\n",
    "\n",
    "import ipywidgets as widgets\n",
    "from IPython.display import display, clear_output\n",
    "\n",
    "import numpy as np"
   ]
  },
  {
   "cell_type": "code",
   "execution_count": 2,
   "id": "informal-powell",
   "metadata": {},
   "outputs": [],
   "source": [
    "#!jupyter nbextension enable --py widgetsnbextension --sys-prefix\n",
    "#!jupyter serverextension enable voila --sys-prefix"
   ]
  },
  {
   "cell_type": "code",
   "execution_count": 3,
   "id": "reflected-speaker",
   "metadata": {},
   "outputs": [],
   "source": [
    "# Image Widget\n",
    "\n",
    "file = open(\"matrix.jpg\", \"rb\")\n",
    "image = file.read()\n",
    "\n",
    "image_headline = widgets.Image(\n",
    "                    value=image,\n",
    "                    format='jpg',\n",
    "                    width='300'\n",
    "                )\n",
    "\n",
    "label_headline = widgets.Label(\n",
    "                    value='Photo by Markus Spiske on Unsplash',\n",
    "                    style={'description_width': 'initial'}\n",
    "                )\n",
    "\n",
    "vbox_headline = widgets.VBox([image_headline, label_headline])"
   ]
  },
  {
   "cell_type": "code",
   "execution_count": 4,
   "id": "e72cca65",
   "metadata": {},
   "outputs": [],
   "source": [
    "matop = widgets.Dropdown(\n",
    "    options=[('Add',1),('Multiply',2),('Rank',3),('Determinant',4)],\n",
    "    description='Matrix Operation'\n",
    ")"
   ]
  },
  {
   "cell_type": "code",
   "execution_count": 5,
   "id": "f586f39f",
   "metadata": {},
   "outputs": [],
   "source": [
    "rows = widgets.IntSlider(\n",
    "            value=1, # default value\n",
    "            min=1, \n",
    "            max=3,\n",
    "            step=1,\n",
    "            style={'description_width': 'initial', 'handle_color': '#16a085'} \n",
    "        )"
   ]
  },
  {
   "cell_type": "code",
   "execution_count": 6,
   "id": "0f628774",
   "metadata": {},
   "outputs": [],
   "source": [
    "cols = widgets.IntSlider(\n",
    "            value=1, # default value\n",
    "            min=1, \n",
    "            max=3,\n",
    "            step=1,\n",
    "            style={'description_width': 'initial', 'handle_color': '#16a085'} \n",
    "        )"
   ]
  },
  {
   "cell_type": "code",
   "execution_count": 7,
   "id": "e7f6bb45",
   "metadata": {},
   "outputs": [],
   "source": [
    "mat1 = widgets.Text()\n",
    "mat2 = widgets.Text()"
   ]
  },
  {
   "cell_type": "code",
   "execution_count": 8,
   "id": "0cfc6852",
   "metadata": {},
   "outputs": [],
   "source": [
    "def getmat(entries,row,col):\n",
    "    numbers = list(map(int, str(entries.value).split()))\n",
    "    matrix = np.array(numbers).reshape(int(row.value), int(col.value))\n",
    "    print(\"\\nMatrix entered is:\\n\",matrix)\n",
    "    return(matrix)\n"
   ]
  },
  {
   "cell_type": "code",
   "execution_count": 9,
   "id": "thorough-royal",
   "metadata": {},
   "outputs": [],
   "source": [
    "# button calculate\n",
    "\n",
    "button_send = widgets.Button(\n",
    "                description='Calculate',\n",
    "                tooltip='Send',\n",
    "                style={'description_width': 'initial'}\n",
    "            )\n",
    "\n",
    "output = widgets.Output()\n",
    "\n",
    "def on_button_clicked(event):\n",
    "    with output:\n",
    "        clear_output()\n",
    "#         print(\"Matop:\",matop.value)\n",
    "        m1 = getmat(mat1,rows,cols)\n",
    "        if (matop.value == 1):\n",
    "            m2 = getmat(mat2,rows,cols)\n",
    "            print(\"\\nResult of addition of the 2 arrays: \\n\",np.add(m1,m2))\n",
    "        elif (matop.value == 2):\n",
    "            m2 = getmat(mat2,cols,rows)\n",
    "            print(\"\\nResult of multiplication of the 2 arrays (matrix product): \\n\",np.matmul(m1,m2))\n",
    "            print(\"\\nResult of multiplication of the 2 arrays (dot product): \\n\",np.dot(m1,m2))\n",
    "        elif (matop.value == 3):\n",
    "            print(\"\\nRank of Matrix is:\\n\",np.linalg.matrix_rank(m1))\n",
    "        elif (matop.value == 4):\n",
    "            print(\"\\nDeterminant of Matrix is:\\n\",np.round(np.linalg.det(m1)))\n",
    "\n",
    "button_send.on_click(on_button_clicked)\n",
    "\n",
    "vbox_result = widgets.VBox([button_send, output])"
   ]
  },
  {
   "cell_type": "code",
   "execution_count": 10,
   "id": "guilty-ending",
   "metadata": {},
   "outputs": [],
   "source": [
    "# stacked right hand side\n",
    "\n",
    "text_0 = widgets.HTML(value=\"<h1>Matrix Operations</h1>\")\n",
    "text_01 = widgets.HTML(value=\"<h2>Enter the operation:</h2>\")\n",
    "text_1 = widgets.HTML(value=\"<h2>Enter number of rows for matrix</h2>\")\n",
    "text_2 = widgets.HTML(value=\"<h2>Enter number of columns for matrix</h2>\")\n",
    "text_3 = widgets.HTML(value=\"<h2>Enter First Matrix entries in a single line (separated by space):</h2>\")\n",
    "text_4 = widgets.HTML(value=\"<h2>Enter Second Matrix entries in a single line (separated by space) .. iff Add or Multiply:</h2>\")\n",
    "# text_5 = widgets.HTML(value=\"<h2>Enter Matrix entries in a single line (separated by space):</h2>\")\n",
    "\n",
    "\n",
    "vbox_text = widgets.VBox([text_0,text_01,matop,text_1,rows,text_2,cols,text_3,mat1,text_4,mat2,vbox_result])"
   ]
  },
  {
   "cell_type": "code",
   "execution_count": 11,
   "id": "earlier-saturday",
   "metadata": {},
   "outputs": [
    {
     "data": {
      "application/vnd.jupyter.widget-view+json": {
       "model_id": "4e5af0338c864a23aa014c4fcded1635",
       "version_major": 2,
       "version_minor": 0
      },
      "text/plain": [
       "HBox(children=(VBox(children=(Image(value=b'\\xff\\xd8\\xff\\xe0\\x00\\x10JFIF\\x00\\x01\\x01\\x01\\x00H\\x00H\\x00\\x00\\xff…"
      ]
     },
     "metadata": {},
     "output_type": "display_data"
    }
   ],
   "source": [
    "page = widgets.HBox([vbox_headline, vbox_text])\n",
    "display(page)"
   ]
  },
  {
   "cell_type": "code",
   "execution_count": 12,
   "id": "according-supervisor",
   "metadata": {},
   "outputs": [],
   "source": [
    "# !pip list --format=freeze > r2.txt"
   ]
  },
  {
   "cell_type": "code",
   "execution_count": 13,
   "id": "1ad4cfca",
   "metadata": {},
   "outputs": [],
   "source": [
    "# with open(\"requirements.txt\",\"a+\") as req:\n",
    "\n",
    "#     with open(\"r2.txt\") as myFile:\n",
    "#         pkgs = myFile.read()\n",
    "#         pkgs = pkgs.splitlines()\n",
    "\n",
    "#         for pkg in pkgs:\n",
    "#             req.write(pkg.split('==')[0])\n",
    "#             req.write(\"\\n\")\n",
    "#     #         myfile.write(pkg.split('==')[0])\n",
    "\n",
    "    "
   ]
  },
  {
   "cell_type": "code",
   "execution_count": null,
   "id": "32a53193",
   "metadata": {},
   "outputs": [],
   "source": []
  }
 ],
 "metadata": {
  "kernelspec": {
   "display_name": "Python 3 (ipykernel)",
   "language": "python",
   "name": "python3"
  },
  "language_info": {
   "codemirror_mode": {
    "name": "ipython",
    "version": 3
   },
   "file_extension": ".py",
   "mimetype": "text/x-python",
   "name": "python",
   "nbconvert_exporter": "python",
   "pygments_lexer": "ipython3",
   "version": "3.8.15"
  }
 },
 "nbformat": 4,
 "nbformat_minor": 5
}
